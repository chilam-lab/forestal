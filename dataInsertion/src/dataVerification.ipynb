{
 "cells": [
  {
   "cell_type": "code",
   "execution_count": 2,
   "metadata": {},
   "outputs": [],
   "source": [
    "import pandas as pd\n",
    "import numpy as np"
   ]
  },
  {
   "cell_type": "markdown",
   "metadata": {},
   "source": [
    "### Importación de datos"
   ]
  },
  {
   "cell_type": "code",
   "execution_count": 3,
   "metadata": {},
   "outputs": [],
   "source": [
    "df_total_sv19 = pd.read_csv('sourceData/total_sv19.csv')[:-1] ## El último registro de total_sv19.csv no contiene ningún dato.\n",
    "df_total_sv20 = pd.read_csv('sourceData/total_sv20.csv')\n",
    "df_sv_1920_dict = pd.read_csv('sourceData/sv_1920.csv')"
   ]
  },
  {
   "cell_type": "code",
   "execution_count": 4,
   "metadata": {},
   "outputs": [
    {
     "data": {
      "text/html": [
       "<div>\n",
       "<style scoped>\n",
       "    .dataframe tbody tr th:only-of-type {\n",
       "        vertical-align: middle;\n",
       "    }\n",
       "\n",
       "    .dataframe tbody tr th {\n",
       "        vertical-align: top;\n",
       "    }\n",
       "\n",
       "    .dataframe thead th {\n",
       "        text-align: right;\n",
       "    }\n",
       "</style>\n",
       "<table border=\"1\" class=\"dataframe\">\n",
       "  <thead>\n",
       "    <tr style=\"text-align: right;\">\n",
       "      <th></th>\n",
       "      <th>CVE_MUNICIPIO</th>\n",
       "      <th>total</th>\n",
       "    </tr>\n",
       "  </thead>\n",
       "  <tbody>\n",
       "    <tr>\n",
       "      <th>0</th>\n",
       "      <td>2001</td>\n",
       "      <td>40000</td>\n",
       "    </tr>\n",
       "    <tr>\n",
       "      <th>1</th>\n",
       "      <td>2002</td>\n",
       "      <td>5000</td>\n",
       "    </tr>\n",
       "    <tr>\n",
       "      <th>2</th>\n",
       "      <td>2004</td>\n",
       "      <td>50000</td>\n",
       "    </tr>\n",
       "    <tr>\n",
       "      <th>3</th>\n",
       "      <td>4002</td>\n",
       "      <td>105000</td>\n",
       "    </tr>\n",
       "    <tr>\n",
       "      <th>4</th>\n",
       "      <td>4003</td>\n",
       "      <td>935000</td>\n",
       "    </tr>\n",
       "  </tbody>\n",
       "</table>\n",
       "</div>"
      ],
      "text/plain": [
       "   CVE_MUNICIPIO   total\n",
       "0           2001   40000\n",
       "1           2002    5000\n",
       "2           2004   50000\n",
       "3           4002  105000\n",
       "4           4003  935000"
      ]
     },
     "execution_count": 4,
     "metadata": {},
     "output_type": "execute_result"
    }
   ],
   "source": [
    "df_total_sv19 = df_total_sv19[['CVE_MUNICIPIO', 'total']].astype(int)\n",
    "df_total_sv19 = df_total_sv19.sort_values(by='CVE_MUNICIPIO', ascending=True)\n",
    "df_total_sv19.head()"
   ]
  },
  {
   "cell_type": "code",
   "execution_count": 5,
   "metadata": {},
   "outputs": [
    {
     "data": {
      "text/html": [
       "<div>\n",
       "<style scoped>\n",
       "    .dataframe tbody tr th:only-of-type {\n",
       "        vertical-align: middle;\n",
       "    }\n",
       "\n",
       "    .dataframe tbody tr th {\n",
       "        vertical-align: top;\n",
       "    }\n",
       "\n",
       "    .dataframe thead th {\n",
       "        text-align: right;\n",
       "    }\n",
       "</style>\n",
       "<table border=\"1\" class=\"dataframe\">\n",
       "  <thead>\n",
       "    <tr style=\"text-align: right;\">\n",
       "      <th></th>\n",
       "      <th>CVE_MUNICIPIO</th>\n",
       "      <th>total</th>\n",
       "    </tr>\n",
       "  </thead>\n",
       "  <tbody>\n",
       "    <tr>\n",
       "      <th>0</th>\n",
       "      <td>2001</td>\n",
       "      <td>10000</td>\n",
       "    </tr>\n",
       "    <tr>\n",
       "      <th>1</th>\n",
       "      <td>2004</td>\n",
       "      <td>10000</td>\n",
       "    </tr>\n",
       "    <tr>\n",
       "      <th>2</th>\n",
       "      <td>4001</td>\n",
       "      <td>39565000</td>\n",
       "    </tr>\n",
       "    <tr>\n",
       "      <th>3</th>\n",
       "      <td>4002</td>\n",
       "      <td>220000</td>\n",
       "    </tr>\n",
       "    <tr>\n",
       "      <th>4</th>\n",
       "      <td>4003</td>\n",
       "      <td>150000</td>\n",
       "    </tr>\n",
       "  </tbody>\n",
       "</table>\n",
       "</div>"
      ],
      "text/plain": [
       "   CVE_MUNICIPIO     total\n",
       "0           2001     10000\n",
       "1           2004     10000\n",
       "2           4001  39565000\n",
       "3           4002    220000\n",
       "4           4003    150000"
      ]
     },
     "execution_count": 5,
     "metadata": {},
     "output_type": "execute_result"
    }
   ],
   "source": [
    "df_total_sv20 = df_total_sv20[['CVE_MUNICIPIO', 'total']].astype(int)\n",
    "df_total_sv20 = df_total_sv20.sort_values(by='CVE_MUNICIPIO', ascending=True)\n",
    "df_total_sv20.head()"
   ]
  },
  {
   "cell_type": "code",
   "execution_count": 6,
   "metadata": {},
   "outputs": [
    {
     "data": {
      "text/html": [
       "<div>\n",
       "<style scoped>\n",
       "    .dataframe tbody tr th:only-of-type {\n",
       "        vertical-align: middle;\n",
       "    }\n",
       "\n",
       "    .dataframe tbody tr th {\n",
       "        vertical-align: top;\n",
       "    }\n",
       "\n",
       "    .dataframe thead th {\n",
       "        text-align: right;\n",
       "    }\n",
       "</style>\n",
       "<table border=\"1\" class=\"dataframe\">\n",
       "  <thead>\n",
       "    <tr style=\"text-align: right;\">\n",
       "      <th></th>\n",
       "      <th>ET_ID</th>\n",
       "      <th>total_sv19_total</th>\n",
       "      <th>total_sv_total.1</th>\n",
       "      <th>total1920</th>\n",
       "    </tr>\n",
       "  </thead>\n",
       "  <tbody>\n",
       "    <tr>\n",
       "      <th>990</th>\n",
       "      <td>1001</td>\n",
       "      <td>NaN</td>\n",
       "      <td>NaN</td>\n",
       "      <td>0</td>\n",
       "    </tr>\n",
       "    <tr>\n",
       "      <th>991</th>\n",
       "      <td>1002</td>\n",
       "      <td>NaN</td>\n",
       "      <td>NaN</td>\n",
       "      <td>0</td>\n",
       "    </tr>\n",
       "    <tr>\n",
       "      <th>992</th>\n",
       "      <td>1003</td>\n",
       "      <td>NaN</td>\n",
       "      <td>NaN</td>\n",
       "      <td>0</td>\n",
       "    </tr>\n",
       "    <tr>\n",
       "      <th>993</th>\n",
       "      <td>1004</td>\n",
       "      <td>NaN</td>\n",
       "      <td>NaN</td>\n",
       "      <td>0</td>\n",
       "    </tr>\n",
       "    <tr>\n",
       "      <th>994</th>\n",
       "      <td>1005</td>\n",
       "      <td>NaN</td>\n",
       "      <td>NaN</td>\n",
       "      <td>0</td>\n",
       "    </tr>\n",
       "  </tbody>\n",
       "</table>\n",
       "</div>"
      ],
      "text/plain": [
       "     ET_ID  total_sv19_total  total_sv_total.1  total1920\n",
       "990   1001               NaN               NaN          0\n",
       "991   1002               NaN               NaN          0\n",
       "992   1003               NaN               NaN          0\n",
       "993   1004               NaN               NaN          0\n",
       "994   1005               NaN               NaN          0"
      ]
     },
     "execution_count": 6,
     "metadata": {},
     "output_type": "execute_result"
    }
   ],
   "source": [
    "df_sv_1920_dict = df_sv_1920_dict[['ET_ID', 'total_sv19_total', 'total_sv_total.1', 'total1920']]\n",
    "df_sv_1920_dict = df_sv_1920_dict.sort_values(by='ET_ID', ascending=True)\n",
    "df_sv_1920_dict.head()"
   ]
  },
  {
   "cell_type": "markdown",
   "metadata": {},
   "source": [
    "### Verificación de datos"
   ]
  },
  {
   "cell_type": "markdown",
   "metadata": {},
   "source": [
    "Creando diccionarios de la forma `clave municipio: total` para 2019 y 2020, y `clave municipio: (total 2019, total 2020)` para 2019-2020"
   ]
  },
  {
   "cell_type": "code",
   "execution_count": 7,
   "metadata": {},
   "outputs": [],
   "source": [
    "total_sv19_dict: dict[int, int] = dict(zip(df_total_sv19['CVE_MUNICIPIO'], df_total_sv19['total']))\n",
    "total_sv20_dict: dict[int, int] = dict(zip(df_total_sv20['CVE_MUNICIPIO'], df_total_sv20['total']))\n",
    "sv_1920_dict: dict[int, tuple[int, int]] = dict(zip(df_sv_1920_dict['ET_ID'], zip(df_sv_1920_dict['total_sv19_total'], df_sv_1920_dict['total_sv_total.1'], df_sv_1920_dict['total1920'])))"
   ]
  },
  {
   "cell_type": "markdown",
   "metadata": {},
   "source": [
    "Verificando que cada municipio en 2019 se encuentre también en 2019-2020 y comparando los montos por municipio."
   ]
  },
  {
   "cell_type": "code",
   "execution_count": 8,
   "metadata": {},
   "outputs": [
    {
     "name": "stdout",
     "output_type": "stream",
     "text": [
      "Diferentes montos totales:  {}\n",
      "Municipios ausentes en 2019-2020:  {7999: 20000, 27999: 5000, 30999: 10000}\n"
     ]
    }
   ],
   "source": [
    "\n",
    "not_in_1920 = {}\n",
    "diff_in_1920 = {}\n",
    "for k in total_sv19_dict.keys():\n",
    "    if k not in sv_1920_dict.keys():\n",
    "        not_in_1920.update({k: total_sv19_dict[k]})\n",
    "        continue\n",
    "    if sv_1920_dict[k][0] != total_sv19_dict[k]:\n",
    "        diff_in_1920.update({k: [total_sv19_dict[k], sv_1920_dict[k][0]]})\n",
    "\n",
    "print(\"Diferentes montos totales: \", diff_in_1920)\n",
    "print(\"Municipios ausentes en 2019-2020: \", not_in_1920)"
   ]
  },
  {
   "cell_type": "markdown",
   "metadata": {},
   "source": [
    "Realizando lo mismo entre 2020 y 2019-2020."
   ]
  },
  {
   "cell_type": "code",
   "execution_count": 9,
   "metadata": {},
   "outputs": [
    {
     "name": "stdout",
     "output_type": "stream",
     "text": [
      "Diferentes montos totales:  {}\n",
      "Municipios ausentes en 2019-2020:  {18999: 30000}\n"
     ]
    }
   ],
   "source": [
    "not_in_1920 = {}\n",
    "diff_in_1920 = {}\n",
    "for k in total_sv20_dict.keys():\n",
    "    if k not in sv_1920_dict.keys():\n",
    "        not_in_1920.update({k: total_sv20_dict[k]})\n",
    "        continue\n",
    "    if sv_1920_dict[k][1] != total_sv20_dict[k]:\n",
    "        diff_in_1920.update({k: [total_sv20_dict[k], sv_1920_dict[k][0]]})\n",
    "\n",
    "print(\"Diferentes montos totales: \", diff_in_1920)\n",
    "print(\"Municipios ausentes en 2019-2020: \", not_in_1920)"
   ]
  },
  {
   "cell_type": "markdown",
   "metadata": {},
   "source": [
    "Verificando que la suma de los montos de 2019 y 2020 coincidan con el total en 2019-2020 por municipio. El resultado es un diccionario de la forma: `clave municipio: (total 2019, total 2020, total 2019-2020)` con los municipios donde difieren las cantidades."
   ]
  },
  {
   "cell_type": "code",
   "execution_count": 10,
   "metadata": {},
   "outputs": [
    {
     "name": "stdout",
     "output_type": "stream",
     "text": [
      "Diferente en 2019-2020:  {7999: (20000, 0, 0), 18999: (0, 30000, 0), 27999: (5000, 0, 0), 30999: (10000, 0, 0), 31102: (0, 26150000, 50510000)}\n"
     ]
    }
   ],
   "source": [
    "diff_in_1920 = {}\n",
    "for k in range(1001, 32042):\n",
    "    if(k not in total_sv19_dict.keys() and k not in sv_1920_dict.keys() and k not in total_sv20_dict.keys()):\n",
    "        continue\n",
    "    total_19 = total_sv19_dict[k] if k in total_sv19_dict.keys() else 0\n",
    "    total_20 = total_sv20_dict[k] if k in total_sv20_dict.keys() else 0\n",
    "    total_1920 = sv_1920_dict[k][2] if k in sv_1920_dict.keys() else 0\n",
    "\n",
    "    if (total_19 + total_20) != total_1920:\n",
    "        diff_in_1920.update({k: (total_19, total_20, total_1920)})\n",
    "    \n",
    "print(\"Diferente en 2019-2020: \", diff_in_1920)"
   ]
  }
 ],
 "metadata": {
  "kernelspec": {
   "display_name": "usr",
   "language": "python",
   "name": "python3"
  },
  "language_info": {
   "codemirror_mode": {
    "name": "ipython",
    "version": 3
   },
   "file_extension": ".py",
   "mimetype": "text/x-python",
   "name": "python",
   "nbconvert_exporter": "python",
   "pygments_lexer": "ipython3",
   "version": "3.11.2"
  }
 },
 "nbformat": 4,
 "nbformat_minor": 2
}
